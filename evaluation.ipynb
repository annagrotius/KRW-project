{
 "cells": [
  {
   "cell_type": "code",
   "execution_count": 1,
   "metadata": {},
   "outputs": [],
   "source": [
    "import pandas as pd\n",
    "from rdflib import Graph, Namespace, URIRef\n",
    "from collections import defaultdict "
   ]
  },
  {
   "cell_type": "code",
   "execution_count": 2,
   "metadata": {},
   "outputs": [],
   "source": [
    "def parse_graph(file):\n",
    "    g = Graph()\n",
    "    g.parse(file, format='turtle')\n",
    "    \n",
    "    return g\n",
    "\n",
    "def create_namespace(graph, namespace, prefix):\n",
    "\n",
    "    ns = Namespace(namespace)\n",
    "    graph.namespace_manager.bind(prefix, namespace)\n",
    "    \n",
    "    return ns"
   ]
  },
  {
   "cell_type": "markdown",
   "metadata": {},
   "source": [
    "### Complete Graph Stats"
   ]
  },
  {
   "cell_type": "code",
   "execution_count": 3,
   "metadata": {},
   "outputs": [
    {
     "name": "stdout",
     "output_type": "stream",
     "text": [
      "number relations: 127320\n",
      "total mesh concepts: 12945\n",
      "total paper concepts: 1222\n",
      "total provenance concepts: 1073\n",
      "total hypothesis concepts: 1221\n",
      "total Named Entity concepts: 10000\n"
     ]
    }
   ],
   "source": [
    "complete_g = parse_graph(\"./Parsing/outputs/complete_graph.ttl\")\n",
    "mesh_g = parse_graph(\"./mesh/mesh_graph.ttl\")\n",
    "hyp_g = parse_graph(\"./Parsing/outputs/hypothesis_main_graph.ttl\")\n",
    "bnode_g = parse_graph(\"./Parsing/outputs/bnode_graph.ttl\")\n",
    "\n",
    "# number of relations\n",
    "complete_rels = len(list(complete_g.predicates())) \n",
    "print(\"number relations:\", complete_rels)\n",
    "\n",
    "# number mesh concepts\n",
    "total_mesh = len(list(mesh_g.subjects())) \n",
    "print(\"total mesh concepts:\", total_mesh)\n",
    "\n",
    "#number paper/hypothesis/provenance nodes\n",
    "hyp_namespace = create_namespace(complete_g, \"http://example.org/hypothesis_ontology/\", 'hyp')\n",
    "total_paper = []\n",
    "total_provenance = []\n",
    "total_hypothesis = []\n",
    "\n",
    "for s,p,o in complete_g.triples( (None, None, hyp_namespace.Paper) ):\n",
    "    total_paper.append(s)\n",
    "print(\"total paper concepts:\", len(total_paper))\n",
    "\n",
    "for s,p,o in complete_g.triples( (None, None, hyp_namespace.Provenance) ):\n",
    "    total_provenance.append(s)\n",
    "print(\"total provenance concepts:\", len(total_provenance))\n",
    "\n",
    "for s,p,o in complete_g.triples( (None, None, hyp_namespace.Hypothesis) ):\n",
    "    total_hypothesis.append(s)\n",
    "print(\"total hypothesis concepts:\", len(total_hypothesis))\n",
    "\n",
    "#number named entity nodes\n",
    "prov_namespace = create_namespace(complete_g, 'http://www.w3.org/TR/prov-o/', 'prov')\n",
    "total_ne = []\n",
    "for s,p,o in complete_g.triples( (None, None, prov_namespace.Entity) ):\n",
    "    total_ne.append(s)\n",
    "print(\"total Named Entity concepts:\", len(total_ne))"
   ]
  },
  {
   "cell_type": "code",
   "execution_count": 4,
   "metadata": {},
   "outputs": [
    {
     "name": "stdout",
     "output_type": "stream",
     "text": [
      "number relations: 127320\n",
      "total mesh concepts: 12945\n",
      "total paper concepts: 1218\n",
      "total provenance concepts: 1071\n",
      "total hypothesis concepts: 1218\n",
      "total Named Entity concepts: 10000\n"
     ]
    }
   ],
   "source": [
    "complete_g = parse_graph(\"./Parsing/outputs/complete_graph.ttl\")\n",
    "mesh_g = parse_graph(\"./mesh/mesh_graph.ttl\")\n",
    "hyp_g = parse_graph(\"./Parsing/outputs/hypothesis_main_graph.ttl\")\n",
    "bnode_g = parse_graph(\"./Parsing/outputs/bnode_graph.ttl\")\n",
    "\n",
    "# number of relations\n",
    "complete_rels = len(list(complete_g.predicates())) \n",
    "print(\"number relations:\", complete_rels)\n",
    "\n",
    "# number mesh concepts\n",
    "total_mesh = len(list(mesh_g.subjects())) \n",
    "print(\"total mesh concepts:\", total_mesh)\n",
    "\n",
    "#number paper/hypothesis/provenance nodes\n",
    "hyp_namespace = create_namespace(hyp_g, \"http://example.org/hypothesis_ontology/\", 'hyp')\n",
    "total_paper = []\n",
    "total_provenance = []\n",
    "total_hypothesis = []\n",
    "\n",
    "for s,p,o in hyp_g.triples( (None, None, hyp_namespace.Paper) ):\n",
    "    total_paper.append(s)\n",
    "print(\"total paper concepts:\", len(total_paper))\n",
    "\n",
    "for s,p,o in hyp_g.triples( (None, None, hyp_namespace.Provenance) ):\n",
    "    total_provenance.append(s)\n",
    "print(\"total provenance concepts:\", len(total_provenance))\n",
    "\n",
    "for s,p,o in hyp_g.triples( (None, None, hyp_namespace.Hypothesis) ):\n",
    "    total_hypothesis.append(s)\n",
    "print(\"total hypothesis concepts:\", len(total_hypothesis))\n",
    "\n",
    "#number named entity nodes\n",
    "prov_namespace = create_namespace(bnode_g, 'http://www.w3.org/TR/prov-o/', 'prov')\n",
    "total_ne = []\n",
    "for s,p,o in bnode_g.triples( (None, None, prov_namespace.Entity) ):\n",
    "    total_ne.append(s)\n",
    "print(\"total Named Entity concepts:\", len(total_ne))"
   ]
  },
  {
   "cell_type": "markdown",
   "metadata": {},
   "source": [
    "### Evaluation Links"
   ]
  },
  {
   "cell_type": "code",
   "execution_count": 5,
   "metadata": {},
   "outputs": [],
   "source": [
    "kw_file = \"./Parsing/outputs/hypothesis-keywords-graph.ttl\"\n",
    "ne_links_file = \"./Linking/skos_same_abstract_contain.ttl\"\n",
    "mesh_links_file = \"./Linking/mesh_links_contain.ttl\""
   ]
  },
  {
   "cell_type": "code",
   "execution_count": 8,
   "metadata": {},
   "outputs": [],
   "source": [
    "kw_g = parse_graph(kw_file)\n",
    "ne_links_g = parse_graph(ne_links_file)\n",
    "mesh_links_g = parse_graph(mesh_links_file)"
   ]
  },
  {
   "cell_type": "code",
   "execution_count": 9,
   "metadata": {},
   "outputs": [],
   "source": [
    "oa_namespace = create_namespace(kw_g, \"http://www.w3.org/ns/oa#\", 'oa')\n",
    "skos_namespace = create_namespace(mesh_links_g, \"http://www.w3.org/2004/02/skos/core#\", 'skos')\n",
    "skos_namespace = create_namespace(ne_links_g, \"http://www.w3.org/2004/02/skos/core#\", 'skos')"
   ]
  },
  {
   "cell_type": "code",
   "execution_count": 10,
   "metadata": {},
   "outputs": [
    {
     "name": "stdout",
     "output_type": "stream",
     "text": [
      "There are 7421 keywords\n"
     ]
    }
   ],
   "source": [
    "keywords = []\n",
    "for s,p,o in kw_g.triples( (None, oa_namespace.hasTarget, None) ):\n",
    "    keywords.append(s)\n",
    "    \n",
    "print(\"There are\", len(keywords), \"keywords\")"
   ]
  },
  {
   "cell_type": "code",
   "execution_count": 11,
   "metadata": {},
   "outputs": [
    {
     "name": "stdout",
     "output_type": "stream",
     "text": [
      "There are 1167 keywords linked with a mesh concept\n"
     ]
    }
   ],
   "source": [
    "mesh_file_keywords = []\n",
    "for s,p,o in mesh_links_g.triples( (None, skos_namespace.related, None) ):\n",
    "    mesh_file_keywords.append(s)\n",
    "print(\"There are\", len(set(mesh_file_keywords)), \"keywords linked with a mesh concept\")"
   ]
  },
  {
   "cell_type": "code",
   "execution_count": 12,
   "metadata": {},
   "outputs": [
    {
     "name": "stdout",
     "output_type": "stream",
     "text": [
      "There are 1413 keywords linked with a named entity fishing concept\n"
     ]
    }
   ],
   "source": [
    "ne_file_keywords = []\n",
    "for s,p,o in ne_links_g.triples( (None, skos_namespace.related, None) ):\n",
    "    ne_file_keywords.append(s)\n",
    "print(\"There are\", len(set(ne_file_keywords)), \"keywords linked with a named entity fishing concept\")"
   ]
  },
  {
   "cell_type": "code",
   "execution_count": 13,
   "metadata": {},
   "outputs": [],
   "source": [
    "# len(list(ne_g.predicates()))"
   ]
  },
  {
   "cell_type": "code",
   "execution_count": 14,
   "metadata": {},
   "outputs": [],
   "source": [
    "ne_link_count = defaultdict(int)\n",
    "mesh_link_count = defaultdict(int)"
   ]
  },
  {
   "cell_type": "code",
   "execution_count": 15,
   "metadata": {
    "scrolled": true
   },
   "outputs": [],
   "source": [
    "for s,p,o in ne_links_g.triples( (None, skos_namespace.related, None) ):\n",
    "    ne_link_count[s] += 1\n",
    "\n",
    "for s,p,o in mesh_links_g.triples( (None, skos_namespace.related, None) ):\n",
    "    mesh_link_count[s] += 1"
   ]
  },
  {
   "cell_type": "code",
   "execution_count": 20,
   "metadata": {},
   "outputs": [],
   "source": [
    "mesh_keys = set(mesh_link_count.keys())\n",
    "ne_keys = set(ne_link_count.keys())"
   ]
  },
  {
   "cell_type": "code",
   "execution_count": 21,
   "metadata": {},
   "outputs": [],
   "source": [
    "kw_link_count = dict()\n",
    "\n",
    "for kw in keywords:\n",
    "    kw_link_count[kw] = []\n",
    "    if kw in mesh_keys:\n",
    "        kw_link_count[kw].append(mesh_link_count[kw])\n",
    "    else:\n",
    "        kw_link_count[kw].append(0)\n",
    "    if kw in ne_keys:\n",
    "        kw_link_count[kw].append(ne_link_count[kw])\n",
    "    else:\n",
    "        kw_link_count[kw].append(0)"
   ]
  },
  {
   "cell_type": "markdown",
   "metadata": {},
   "source": [
    "Convert the dictionary above to data frame to find some statistics"
   ]
  },
  {
   "cell_type": "code",
   "execution_count": 23,
   "metadata": {},
   "outputs": [],
   "source": [
    "# convert the dictionary above to data frame to find some statistics\n",
    "df = pd.DataFrame(kw_link_count,index=['mesh', 'ne'])\n",
    "new_df = df.T"
   ]
  },
  {
   "cell_type": "code",
   "execution_count": 25,
   "metadata": {},
   "outputs": [
    {
     "name": "stdout",
     "output_type": "stream",
     "text": [
      "Median of mesh links: 8.0\n"
     ]
    }
   ],
   "source": [
    "print(\"Median of mesh links:\", new_df['mesh'].value_counts().median())"
   ]
  },
  {
   "cell_type": "code",
   "execution_count": 26,
   "metadata": {},
   "outputs": [
    {
     "name": "stdout",
     "output_type": "stream",
     "text": [
      "Median of named entity links: 38.0\n"
     ]
    }
   ],
   "source": [
    "print(\"Median of named entity links:\", new_df['ne'].value_counts().median())"
   ]
  },
  {
   "cell_type": "markdown",
   "metadata": {},
   "source": [
    "Check if the amount of keywords in graph equals the amount of keywords that have a link."
   ]
  },
  {
   "cell_type": "code",
   "execution_count": 68,
   "metadata": {},
   "outputs": [
    {
     "data": {
      "text/plain": [
       "True"
      ]
     },
     "execution_count": 68,
     "metadata": {},
     "output_type": "execute_result"
    }
   ],
   "source": [
    "set(kw_link_count.keys())==set(keywords)"
   ]
  },
  {
   "cell_type": "code",
   "execution_count": null,
   "metadata": {},
   "outputs": [],
   "source": []
  }
 ],
 "metadata": {
  "kernelspec": {
   "display_name": "Python 3",
   "language": "python",
   "name": "python3"
  },
  "language_info": {
   "codemirror_mode": {
    "name": "ipython",
    "version": 3
   },
   "file_extension": ".py",
   "mimetype": "text/x-python",
   "name": "python",
   "nbconvert_exporter": "python",
   "pygments_lexer": "ipython3",
   "version": "3.7.6"
  }
 },
 "nbformat": 4,
 "nbformat_minor": 4
}
