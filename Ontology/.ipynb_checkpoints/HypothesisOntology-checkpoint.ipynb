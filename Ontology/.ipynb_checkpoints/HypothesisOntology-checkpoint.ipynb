{
 "cells": [
  {
   "cell_type": "markdown",
   "metadata": {},
   "source": [
    "# Hypotheses Ontology"
   ]
  },
  {
   "cell_type": "code",
   "execution_count": 17,
   "metadata": {},
   "outputs": [],
   "source": [
    "## Uncomment if you do not have owlrl installed (you should have it installed from the RDFS tutorial)\n",
    "import sys\n",
    "# !{sys.executable} -m pip install rdflib  owlready2 pandas\n",
    "\n",
    "import pandas as pd\n",
    "from rdflib.namespace import DC, FOAF, NamespaceManager\n",
    "\n",
    "from owlready2 import *\n",
    "from rdflib import Graph, Literal, Namespace, RDF, URIRef, OWL, RDFS\n",
    "\n",
    "# documentation : https://pythonhosted.org/Owlready2/"
   ]
  },
  {
   "cell_type": "markdown",
   "metadata": {},
   "source": [
    "Loading and creating ontologies and namespaces."
   ]
  },
  {
   "cell_type": "code",
   "execution_count": 18,
   "metadata": {},
   "outputs": [],
   "source": [
    "# TODO: Change that\n",
    "hypothesis_uri = URIRef(\"http://example.org/hypothesis_ontology/\")\n",
    "hypothesis_namespace = Namespace(hypothesis_uri)\n",
    "hypothesis_ontology = get_ontology(hypothesis_uri)\n",
    "\n",
    "dct_uri = URIRef(\"http://purl.org/dc/terms/\")\n",
    "dct_namespace = Namespace(dct_uri)\n",
    "# File from webpage did not work for me -- I downloaded it.\n",
    "dct_ontology = get_ontology(\"./imported_ontologies/dublin_core_terms.rdf\").load()\n",
    "\n",
    "frbr_uri = URIRef(\"http://purl.org/vocab/frbr/core#\")\n",
    "frbr_namespace = Namespace(frbr_uri)\n",
    "# File from webpage did not wrk for me -- I downloaded it.\n",
    "frbr_ontology = get_ontology(\"./imported_ontologies/frbr-core-20050810.rdf\").load()\n",
    "\n",
    "owl_uri = URIRef(\"http://www.w3.org/2002/07/owl#\")\n",
    "owl_namespace = Namespace(owl_uri)\n",
    "\n",
    "fabio_uri = URIRef(\"http://purl.org/spar/fabio/\")\n",
    "fabio_namespace = Namespace(fabio_uri)\n",
    "\n",
    "prov_uri = URIRef(\"http://www.w3.org/ns/prov#\")\n",
    "prov_namespace = Namespace(prov_uri)\n",
    "# File from webpage did not work for me -- I downloaded it.\n",
    "prov_ontology = get_ontology(\"./imported_ontologies/prov_ontology.rdf\").load()\n",
    "\n",
    "\n",
    "g = Graph()\n",
    "g.parse(\"cord19-nekg-dataset-metadata.ttl\", format=\"ttl\")\n",
    "\n",
    "cord19_nekg_dataset_metadata_file = open(\"cord19-nekg-dataset-metadata.rdf\", \"w+\")\n",
    "cord19_nekg_dataset_metadata_file.write(g.serialize(format='xml').decode())\n",
    "cord19_nekg_dataset_metadata_file.close()\n",
    "\n",
    "covid_uri = URIRef(\"http://ns.inria.fr/covid19/\")\n",
    "covid_namespace = Namespace(covid_uri)\n",
    "covid_ontology = get_ontology(\"./imported_ontologies/cord19-nekg-dataset-metadata.rdf\").load()\n",
    "\n",
    "covidpr_uri = URIRef(\"http://ns.inria.fr/covid19/property\")\n",
    "covidpr_namespace = Namespace(covidpr_uri)"
   ]
  },
  {
   "cell_type": "markdown",
   "metadata": {},
   "source": [
    "# Ontology classes and properties"
   ]
  },
  {
   "cell_type": "markdown",
   "metadata": {},
   "source": [
    "## 1. Classes"
   ]
  },
  {
   "cell_type": "code",
   "execution_count": 19,
   "metadata": {
    "scrolled": true
   },
   "outputs": [],
   "source": [
    "hypothesis_ontology.label = \"Hypothesis Generation Ontology\"\n",
    "\n",
    "with hypothesis_ontology:\n",
    "    class Hypothesis(Thing):\n",
    "        label = \"Hypothesis\"\n",
    "        comment = \"Paper's hypothesis.\"\n",
    "    #   Will include dct:Title, bibo:doi, bibo:pmid, fabio:hasPubMedId, fabio:hasPubMedCentralId, schema:url, foaf:sha1\n",
    "    #   Will link with fabio:Abstract by oa:hasSource (TODO: change in graph)\n",
    "\n",
    "    # ConfidenceScore will be linked by owl:dataProperty which links with simple datatypes, not entities, so class is not needed\n",
    "    # class ConfidenceScore(Thing):\n",
    "    #     namespace = hypothesis_ontology\n",
    "    \n",
    "    class Paper(Thing):\n",
    "        label = \"Research paper or article\"\n",
    "        comment = \"General class for all papers\"\n",
    "        \n",
    "    class Provenance(Thing):\n",
    "        label = \"Provenance\"\n",
    "        comment = \"Provenance of the paper.\"\n",
    "\n",
    "#     class NamedEntity(Thing, prov_ontology.Entity):\n",
    "#         label = \"Named Entity\"\n",
    "#         comment = \"Named entity included in the paper's abstract.\"\n",
    "#     #   Will contain dct:Subject, rdf:value, oa:hasBody\n",
    "#     #   TODO: how do we name these NameEntity-ies?\n",
    "\n",
    "#     class NamedEntitySet(Thing):\n",
    "#         label = \"Named Entity set\"\n",
    "#         comment = \"Set of entities included in the paper's abstract.\""
   ]
  },
  {
   "cell_type": "markdown",
   "metadata": {},
   "source": [
    "## 2. Properties"
   ]
  },
  {
   "cell_type": "code",
   "execution_count": 20,
   "metadata": {},
   "outputs": [],
   "source": [
    "with hypothesis_ontology:\n",
    "    class contains(ObjectProperty):\n",
    "        label = \"Resource representing a hypothesis's entity set.\"\n",
    "        comment = \"Links hypothesis with its entity set.\"\n",
    "        domain = [Hypothesis]\n",
    "        \n",
    "    class isHypothesisOf(ObjectProperty, FunctionalProperty):\n",
    "        domain = [Hypothesis,]\n",
    "        range = [Paper,]\n",
    "        label = \"Resource representing a hypothesis' paper.\"\n",
    "        comment = \"Links hypothesis with paper it comes from.\"\n",
    "        \n",
    "    class isProvenanceOf(ObjectProperty, FunctionalProperty, Provenance >> Paper):\n",
    "        label = \"Resource representing a provenance's paper.\"\n",
    "        comment = \"Links provenance with the paper it is provenance of.\"\n",
    "        \n",
    "    class hasHypothesis(ObjectProperty, list(frbr_ontology.properties())[45], FunctionalProperty):\n",
    "        label = \"Resource representing a document's hypothesis entity.\"\n",
    "        comment = \"Links paper with its hypothesis entity.\"\n",
    "        domain = [Paper]\n",
    "        range = [Hypothesis,]\n",
    "        inverse_property = isHypothesisOf\n",
    "        \n",
    "    class hasProvenance(ObjectProperty, FunctionalProperty, Paper >> Provenance):\n",
    "        label = \"Resource representing a paper's provenance.\"\n",
    "        comment = \"Links paper with its provenance.\"\n",
    "        inverse_property = isProvenanceOf\n",
    "        \n",
    "\n",
    "#     class includes(ObjectProperty, NamedEntitySet >> NamedEntity):\n",
    "#         label = \"Resource representing a Named Entity in the set.\"\n",
    "#         comment = \"Links Named Entity set with its elements.\""
   ]
  },
  {
   "cell_type": "markdown",
   "metadata": {},
   "source": [
    "## 2.5. Restrictions"
   ]
  },
  {
   "cell_type": "code",
   "execution_count": 21,
   "metadata": {},
   "outputs": [],
   "source": [
    "with hypothesis_ontology:\n",
    "    Hypothesis.equivalent_to = [contains.min(1, ),]"
   ]
  },
  {
   "cell_type": "markdown",
   "metadata": {},
   "source": [
    "## 3. Graph building"
   ]
  },
  {
   "cell_type": "code",
   "execution_count": 22,
   "metadata": {},
   "outputs": [
    {
     "data": {
      "text/plain": [
       "<Graph identifier=N8577191906c54433b9e0cdf28dbddc14 (<class 'rdflib.graph.Graph'>)>"
      ]
     },
     "execution_count": 22,
     "metadata": {},
     "output_type": "execute_result"
    }
   ],
   "source": [
    "hypothesis_ontology.save(file = \"hypothesis_ontology.nt\", format = \"ntriples\") # also supported ntriples\n",
    "g = Graph()\n",
    "g.bind(\"frbr\", frbr_namespace)\n",
    "g.bind(\"owl\", owl_namespace)\n",
    "g.bind(\"hyp\", hypothesis_namespace)\n",
    "g.bind(\"fabio\", fabio_namespace)\n",
    "g.parse(\"hypothesis_ontology.nt\", format=\"nt\")"
   ]
  },
  {
   "cell_type": "markdown",
   "metadata": {},
   "source": [
    "## 4. Additional things added to the graph."
   ]
  },
  {
   "cell_type": "code",
   "execution_count": 23,
   "metadata": {
    "scrolled": true
   },
   "outputs": [],
   "source": [
    "# g.add((hypothesis_namespace.hasHypothesis, RDFS.subPropertyOf, frbr_namespace.part))\n",
    "# g.add((hypothesis_namespace.Abstract, RDFS.subClassOf, fabio_namespace.Work))\n"
   ]
  },
  {
   "cell_type": "markdown",
   "metadata": {},
   "source": [
    "## 5. Saving the graph"
   ]
  },
  {
   "cell_type": "code",
   "execution_count": 24,
   "metadata": {},
   "outputs": [
    {
     "name": "stdout",
     "output_type": "stream",
     "text": [
      "@prefix frbr: <http://purl.org/vocab/frbr/core#> .\n",
      "@prefix hyp: <http://example.org/hypothesis_ontology/> .\n",
      "@prefix owl: <http://www.w3.org/2002/07/owl#> .\n",
      "@prefix rdfs: <http://www.w3.org/2000/01/rdf-schema#> .\n",
      "@prefix xsd: <http://www.w3.org/2001/XMLSchema#> .\n",
      "\n",
      "<http://example.org/hypothesis_ontology> a owl:Ontology .\n",
      "\n",
      "hyp:contains a owl:ObjectProperty ;\n",
      "    rdfs:label \"Resource representing a hypothesis's entity set.\"^^xsd:string ;\n",
      "    rdfs:comment \"Links hypothesis with its entity set.\"^^xsd:string ;\n",
      "    rdfs:domain hyp:Hypothesis .\n",
      "\n",
      "hyp:hasHypothesis a owl:FunctionalProperty,\n",
      "        owl:ObjectProperty ;\n",
      "    rdfs:label \"Resource representing a document's hypothesis entity.\"^^xsd:string ;\n",
      "    rdfs:comment \"Links paper with its hypothesis entity.\"^^xsd:string ;\n",
      "    rdfs:domain hyp:Paper ;\n",
      "    rdfs:range hyp:Hypothesis ;\n",
      "    rdfs:subPropertyOf frbr:part ;\n",
      "    owl:inverseOf hyp:isHypothesisOf .\n",
      "\n",
      "hyp:hasProvenance a owl:FunctionalProperty,\n",
      "        owl:ObjectProperty ;\n",
      "    rdfs:label \"Resource representing a paper's provenance.\"^^xsd:string ;\n",
      "    rdfs:comment \"Links paper with its provenance.\"^^xsd:string ;\n",
      "    rdfs:domain hyp:Paper ;\n",
      "    rdfs:range hyp:Provenance ;\n",
      "    owl:inverseOf hyp:isProvenanceOf .\n",
      "\n",
      "hyp:isHypothesisOf a owl:FunctionalProperty,\n",
      "        owl:ObjectProperty ;\n",
      "    rdfs:label \"Resource representing a hypothesis' paper.\"^^xsd:string ;\n",
      "    rdfs:comment \"Links hypothesis with paper it comes from.\"^^xsd:string ;\n",
      "    rdfs:domain hyp:Hypothesis ;\n",
      "    rdfs:range hyp:Paper ;\n",
      "    owl:inverseOf hyp:hasHypothesis .\n",
      "\n",
      "hyp:isProvenanceOf a owl:FunctionalProperty,\n",
      "        owl:ObjectProperty ;\n",
      "    rdfs:label \"Resource representing a provenance's paper.\"^^xsd:string ;\n",
      "    rdfs:comment \"Links provenance with the paper it is provenance of.\"^^xsd:string ;\n",
      "    rdfs:domain hyp:Provenance ;\n",
      "    rdfs:range hyp:Paper ;\n",
      "    owl:inverseOf hyp:hasProvenance .\n",
      "\n",
      "hyp:Provenance a owl:Class ;\n",
      "    rdfs:label \"Provenance\"^^xsd:string ;\n",
      "    rdfs:comment \"Provenance of the paper.\"^^xsd:string ;\n",
      "    rdfs:subClassOf owl:Thing .\n",
      "\n",
      "hyp:Hypothesis a owl:Class ;\n",
      "    rdfs:label \"Hypothesis\"^^xsd:string ;\n",
      "    rdfs:comment \"Paper's hypothesis.\"^^xsd:string ;\n",
      "    rdfs:subClassOf owl:Thing ;\n",
      "    owl:equivalentClass [ a owl:Restriction ;\n",
      "            owl:minCardinality \"1\"^^xsd:nonNegativeInteger ;\n",
      "            owl:onProperty hyp:contains ] .\n",
      "\n",
      "hyp:Paper a owl:Class ;\n",
      "    rdfs:label \"Research paper or article\"^^xsd:string ;\n",
      "    rdfs:comment \"General class for all papers\"^^xsd:string ;\n",
      "    rdfs:subClassOf owl:Thing .\n",
      "\n",
      "\n"
     ]
    }
   ],
   "source": [
    "result = g.serialize(format='turtle').decode()\n",
    "print(result)"
   ]
  },
  {
   "cell_type": "code",
   "execution_count": 25,
   "metadata": {},
   "outputs": [],
   "source": [
    "hypothesis_owl_file = open(\"hypothesis_owl.ttl\", \"w+\")\n",
    "hypothesis_owl_file.write(result)\n",
    "hypothesis_owl_file.close()"
   ]
  },
  {
   "cell_type": "code",
   "execution_count": null,
   "metadata": {},
   "outputs": [],
   "source": []
  }
 ],
 "metadata": {
  "kernelspec": {
   "display_name": "Python 3",
   "language": "python",
   "name": "python3"
  },
  "language_info": {
   "codemirror_mode": {
    "name": "ipython",
    "version": 3
   },
   "file_extension": ".py",
   "mimetype": "text/x-python",
   "name": "python",
   "nbconvert_exporter": "python",
   "pygments_lexer": "ipython3",
   "version": "3.7.6"
  }
 },
 "nbformat": 4,
 "nbformat_minor": 4
}
