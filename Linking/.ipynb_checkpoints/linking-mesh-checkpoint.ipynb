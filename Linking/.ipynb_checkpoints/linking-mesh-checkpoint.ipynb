{
 "cells": [
  {
   "cell_type": "code",
   "execution_count": 1,
   "metadata": {},
   "outputs": [],
   "source": [
    "from rdflib import Graph, Literal, Namespace, RDF, URIRef"
   ]
  },
  {
   "cell_type": "code",
   "execution_count": 17,
   "metadata": {},
   "outputs": [],
   "source": [
    "def create_graph(graph_file):\n",
    "    g = Graph()\n",
    "    g.parse(graph_file, format=\"turtle\")\n",
    "    \n",
    "    return g\n",
    "\n",
    "kw_file = \"./ParsingSpaqrlIntoTTLFile/Output-Graphs/HypothesisKeywordInstances.ttl\"\n",
    "kw = create_graph(kw_file)\n",
    "\n",
    "mesh_file = \"./mesh/mesh_graph.ttl\"\n",
    "mesh = create_graph(mesh_file)"
   ]
  },
  {
   "cell_type": "code",
   "execution_count": 3,
   "metadata": {},
   "outputs": [],
   "source": [
    "# get the namespaces for running the sparql queries in python\n",
    "def create_namespace(graph, namespace, prefix):\n",
    "\n",
    "    ns = Namespace(namespace)\n",
    "    graph.namespace_manager.bind(prefix, namespace)\n",
    "    \n",
    "    return ns\n",
    "\n",
    "\n",
    "hyp_namespace = create_namespace(kw, \"http://example.org/hypothesis_ontology/\", 'hyp')\n",
    "oa_namespace = create_namespace(kw, \"http://www.w3.org/ns/oa#\", 'oa')"
   ]
  },
  {
   "cell_type": "code",
   "execution_count": 4,
   "metadata": {},
   "outputs": [],
   "source": [
    "kw_q = kw.query(\n",
    "\"\"\"\n",
    "prefix dct: <http://purl.org/dc/terms/> \n",
    "prefix hyp: <http://example.org/hypothesis_ontology/> \n",
    "prefix oa: <http://www.w3.org/ns/oa#>\n",
    "SELECT ?kw ?literal ?abstract\n",
    "WHERE {\n",
    "  ?hyp oa:hasSource ?abstract; hyp:contains ?kw.\n",
    "  ?kw oa:hasTarget ?literal.\n",
    "}\n",
    "\"\"\"\n",
    ")\n",
    "\n",
    "kw_data = []\n",
    "for i in kw_q:\n",
    "    kw_dict = dict()\n",
    "    kw_dict['kw_id'] = i.kw\n",
    "    kw_dict['literal'] = i.literal\n",
    "    kw_dict['abstract'] = i.abstract\n",
    "    kw_data.append(kw_dict)"
   ]
  },
  {
   "cell_type": "code",
   "execution_count": 5,
   "metadata": {},
   "outputs": [],
   "source": [
    "# is there a way to make this faster?\n",
    "for kw in kw_data:\n",
    "    for kw2 in kw_data:\n",
    "        if kw['abstract'] == kw2['abstract'] and kw['literal'] == kw2['literal'] and kw['kw_id'] != kw2['kw_id']:\n",
    "            kw_data.remove(kw2)\n",
    "            \n",
    "# print(len(kw_data))"
   ]
  },
  {
   "cell_type": "code",
   "execution_count": 18,
   "metadata": {},
   "outputs": [],
   "source": [
    "# get mesh data\n",
    "mesh_q = mesh.query(\n",
    "\"\"\"\n",
    "prefix rdfs: <http://www.w3.org/2000/01/rdf-schema#> \n",
    "\n",
    "SELECT ?mesh_id ?literal WHERE { \n",
    "  ?mesh_id rdfs:label ?literal.\n",
    "} \n",
    "\n",
    "\"\"\")\n",
    "mesh_data = []\n",
    "for i in mesh_q:\n",
    "    mesh_dict = dict()\n",
    "    mesh_dict['mesh_id'] = i.mesh_id\n",
    "    mesh_dict['literal'] = i.literal\n",
    "    mesh_data.append(mesh_dict)"
   ]
  },
  {
   "cell_type": "code",
   "execution_count": 12,
   "metadata": {},
   "outputs": [
    {
     "name": "stdout",
     "output_type": "stream",
     "text": [
      "497006\n"
     ]
    }
   ],
   "source": [
    "g = Graph()\n",
    "skos_namespace = create_namespace(g, \"http://www.w3.org/2004/02/skos/core#\", 'skos')\n",
    "\n",
    "for kw in kw_data:\n",
    "    words = str(kw['literal']).split(' ')\n",
    "    if len(str(kw['literal'])) < 3:\n",
    "        continue\n",
    "    for word in words:\n",
    "        if len(word) < 3:\n",
    "            continue\n",
    "        for mesh in mesh_data:\n",
    "            if len(str(mesh['literal'])) < 3:\n",
    "                continue\n",
    "            if word in str(mesh['literal']):\n",
    "                g.add((kw['kw_id'],skos_namespace.related, mesh['mesh_id']))  \n",
    "#             if str(mesh['literal']) in str(kw['literal']):\n",
    "#                 g.add((kw['kw_id'],skos_namespace.related, mesh['mesh_id']))            \n",
    "g.serialize('./Output-Graphs/mesh_links_contain.ttl', format=\"turtle\")\n",
    "print(len(g))"
   ]
  },
  {
   "cell_type": "markdown",
   "metadata": {},
   "source": [
    "NOTE:\n",
    "    <http://example.org/hypothesis_ontology/05b3c5d3-2e57-44dc-bfb4-0067b362d177#keyword> skos:related <http://id.nlm.nih.gov/mesh/M000662497>,\n",
    "        \n",
    "    kw = \"plasma\"\n",
    "    many of the mesh labels are 'Mycoplasma'\n",
    "    \n",
    "This keyword has over 100 related links. Don't think all are that valid like the example above. Thus will split the mesh words into a list, and check if any of those are in the keyword."
   ]
  },
  {
   "cell_type": "code",
   "execution_count": 19,
   "metadata": {},
   "outputs": [],
   "source": [
    "g2 = Graph()\n",
    "skos_namespace = create_namespace(g2, \"http://www.w3.org/2004/02/skos/core#\", 'skos')\n",
    "\n",
    "for mesh in mesh_data:\n",
    "    if len(str(mesh['literal'])) < 3:\n",
    "        continue\n",
    "    else:\n",
    "        mesh_words = mesh['literal'].split(',')\n",
    "        mesh_words_clean = [word.lower() for word in mesh_words]\n",
    "        mesh['literal'] = mesh_words_clean"
   ]
  },
  {
   "cell_type": "code",
   "execution_count": 20,
   "metadata": {},
   "outputs": [
    {
     "name": "stdout",
     "output_type": "stream",
     "text": [
      "['dna repair-deficiency disorders']\n",
      "['cyclosporine metabolite m21']\n",
      "['mannose-1-phosphate guanylyltransferase (gdp)']\n",
      "['alpha-guanidinoglutaric acid']\n",
      "['novo-pyrexal']\n",
      "['receptor', ' nerve growth factor']\n",
      "['alpha-o-methyllanosol']\n",
      "['alpha', 'alpha-trehalose-phosphate synthase(gdp-forming)']\n",
      "['nsg1 protein', ' human']\n",
      "['bacterial leucyl aminopeptidase']\n"
     ]
    }
   ],
   "source": [
    "for mesh in mesh_data[:10]:\n",
    "    print(mesh['literal'])"
   ]
  },
  {
   "cell_type": "code",
   "execution_count": 24,
   "metadata": {},
   "outputs": [
    {
     "name": "stdout",
     "output_type": "stream",
     "text": [
      "8988\n"
     ]
    }
   ],
   "source": [
    "g2 = Graph()\n",
    "skos_namespace = create_namespace(g2, \"http://www.w3.org/2004/02/skos/core#\", 'skos')\n",
    "\n",
    "for kw in kw_data:\n",
    "    words = str(kw['literal']).lower().split(' ')\n",
    "    if len(str(kw['literal'])) < 3:\n",
    "        continue\n",
    "    for mesh in mesh_data:\n",
    "        for word in mesh['literal']:\n",
    "            if len(word) < 3:\n",
    "                continue\n",
    "            elif word in words:\n",
    "                g2.add((kw['kw_id'],skos_namespace.related, mesh['mesh_id']))            \n",
    "g2.serialize('./Output-Graphs/mesh_links_contain3.ttl', format=\"turtle\")\n",
    "print(len(g2))"
   ]
  },
  {
   "cell_type": "markdown",
   "metadata": {},
   "source": [
    "<http://id.nlm.nih.gov/mesh/M0388427> rdfs:label \"acetato(N,N,N',N'-tetrakis(2-pyridylmethyl)-1,3-diamino-2-propanol)dizinc\"@en .\n",
    "        \n",
    "        - anything with N will be linked to this\n",
    "        "
   ]
  },
  {
   "cell_type": "markdown",
   "metadata": {},
   "source": [
    "or this: \n",
    "\n",
    "<http://id.nlm.nih.gov/mesh/M000636134> rdfs:label \"benzyl 2-((6,9alpha-dimethyl-3-methylene-2-oxo-2,3,3alpha,4,5,8,9,9a,10alpha,10beta-decahydrooxireno (2',3':9,10)cyclodeca(1,2-b)furan-5-yl)oxy)-2-phenylacetate\"@en .\n",
    "\n",
    "catching the 5:     \n",
    "        <http://example.org/hypothesis_ontology/035ff86c-f268-45cf-82f4-59830e035aa2#keyword> oa:hasTarget \"the actual European CCR5 allelic frequencies\" .\n"
   ]
  },
  {
   "cell_type": "code",
   "execution_count": null,
   "metadata": {},
   "outputs": [],
   "source": []
  }
 ],
 "metadata": {
  "kernelspec": {
   "display_name": "Python 3",
   "language": "python",
   "name": "python3"
  },
  "language_info": {
   "codemirror_mode": {
    "name": "ipython",
    "version": 3
   },
   "file_extension": ".py",
   "mimetype": "text/x-python",
   "name": "python",
   "nbconvert_exporter": "python",
   "pygments_lexer": "ipython3",
   "version": "3.7.4"
  }
 },
 "nbformat": 4,
 "nbformat_minor": 4
}
