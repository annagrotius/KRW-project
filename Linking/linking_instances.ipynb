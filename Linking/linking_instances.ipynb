{
 "cells": [
  {
   "cell_type": "markdown",
   "metadata": {},
   "source": [
    "#### Linking keywords and named entities\n",
    "This notebook provides code to link the keywords automatically extracted from an abstract's hypothesis (completed in other notebook) with a skos:related predicate to the named entities from the CORD19 NEKG dataset."
   ]
  },
  {
   "cell_type": "code",
   "execution_count": 1,
   "metadata": {},
   "outputs": [],
   "source": [
    "from rdflib import Graph, Literal, Namespace, RDF, URIRef"
   ]
  },
  {
   "cell_type": "code",
   "execution_count": 2,
   "metadata": {},
   "outputs": [
    {
     "data": {
      "text/plain": [
       "<Graph identifier=N8a17b76ded5b4dda9d64a012f39d3613 (<class 'rdflib.graph.Graph'>)>"
      ]
     },
     "execution_count": 2,
     "metadata": {},
     "output_type": "execute_result"
    }
   ],
   "source": [
    "# load the keyword instances graph and bnode graph because this is the data we want to link (decided to focus ont these two for now and then later attempt with mesh)\n",
    "kw = Graph()\n",
    "ne = Graph()\n",
    "kw.parse(\"../Parsing/outputs/hypothesis-keywords-graph.ttl\", format=\"turtle\")\n",
    "ne.parse(\"../Parsing/outputs/bnode_graph.ttl\", format=\"turtle\")"
   ]
  },
  {
   "cell_type": "code",
   "execution_count": 3,
   "metadata": {},
   "outputs": [],
   "source": [
    "# get the namespaces for running the sparql queries in python\n",
    "def create_namespace(graph, namespace, prefix):\n",
    "\n",
    "    ns = Namespace(namespace)\n",
    "    graph.namespace_manager.bind(prefix, namespace)\n",
    "    \n",
    "    return ns\n",
    "\n",
    "\n",
    "hyp_namespace = create_namespace(ne, \"http://example.org/hypothesis_ontology/\", 'hyp')\n",
    "oa_namespace = create_namespace(ne, \"http://www.w3.org/ns/oa#\", 'oa')\n",
    "\n",
    "hyp_namespace = create_namespace(kw, \"http://example.org/hypothesis_ontology/\", 'hyp')\n",
    "oa_namespace = create_namespace(kw, \"http://www.w3.org/ns/oa#\", 'oa')"
   ]
  },
  {
   "cell_type": "code",
   "execution_count": 4,
   "metadata": {},
   "outputs": [],
   "source": [
    "def get_abstracts(graph):\n",
    "    abstracts = []\n",
    "    for s, p, o in graph.triples( (None, oa_namespace.hasSource, None) ):\n",
    "        keyword = graph.value(s,p)\n",
    "        abstracts.append(keyword)\n",
    "    return abstracts\n",
    "\n",
    "# get_abstracts(kw)"
   ]
  },
  {
   "cell_type": "markdown",
   "metadata": {},
   "source": [
    "#### Execute sparql queries to obtain desired info from respective graphs"
   ]
  },
  {
   "cell_type": "code",
   "execution_count": 5,
   "metadata": {},
   "outputs": [],
   "source": [
    "ne_q = ne.query(\n",
    "\"\"\"\n",
    "prefix dct: <http://purl.org/dc/terms/> \n",
    "prefix hyp: <http://example.org/hypothesis_ontology/> \n",
    "prefix oa: <http://www.w3.org/ns/oa#>\n",
    "SELECT ?ne ?literal ?abstract\n",
    "WHERE {\n",
    "  ?ne oa:hasSource ?abstract; oa:exact ?literal.\n",
    "}\n",
    "\"\"\"\n",
    ")\n",
    "\n",
    "ne_data = []\n",
    "for i in ne_q:\n",
    "    ne_dict = dict()\n",
    "    ne_dict['ne_id'] = i.ne\n",
    "    ne_dict['literal'] = i.literal\n",
    "    ne_dict['abstract'] = i.abstract\n",
    "    ne_data.append(ne_dict)"
   ]
  },
  {
   "cell_type": "code",
   "execution_count": 6,
   "metadata": {
    "scrolled": true
   },
   "outputs": [],
   "source": [
    "kw_q = kw.query(\n",
    "\"\"\"\n",
    "prefix dct: <http://purl.org/dc/terms/> \n",
    "prefix hyp: <http://example.org/hypothesis_ontology/> \n",
    "prefix oa: <http://www.w3.org/ns/oa#>\n",
    "SELECT ?kw ?literal ?abstract\n",
    "WHERE {\n",
    "  ?hyp oa:hasSource ?abstract; hyp:contains ?kw.\n",
    "  ?kw oa:hasTarget ?literal.\n",
    "}\n",
    "\"\"\"\n",
    ")\n",
    "\n",
    "kw_data = []\n",
    "for i in kw_q:\n",
    "    kw_dict = dict()\n",
    "    kw_dict['kw_id'] = i.kw\n",
    "    kw_dict['literal'] = i.literal\n",
    "    kw_dict['abstract'] = i.abstract\n",
    "    kw_data.append(kw_dict)"
   ]
  },
  {
   "cell_type": "code",
   "execution_count": 7,
   "metadata": {},
   "outputs": [
    {
     "data": {
      "text/plain": [
       "rdflib.term.Literal('IVIG')"
      ]
     },
     "execution_count": 7,
     "metadata": {},
     "output_type": "execute_result"
    }
   ],
   "source": [
    "ne_data[11]['literal']"
   ]
  },
  {
   "cell_type": "markdown",
   "metadata": {},
   "source": [
    "### Filtering duplicates"
   ]
  },
  {
   "cell_type": "markdown",
   "metadata": {},
   "source": [
    "Here I delete duplicates both in ne_data and kw_data. Basically I check for every pair (ne, ne2) from ne_data if literals, abstracts are the same and if ids are different. In that case we delete the second one, because of information redundancy. Same thing is done for kw_data."
   ]
  },
  {
   "cell_type": "code",
   "execution_count": 8,
   "metadata": {},
   "outputs": [
    {
     "name": "stdout",
     "output_type": "stream",
     "text": [
      "8061\n"
     ]
    }
   ],
   "source": [
    "for ne in ne_data:\n",
    "    for ne2 in ne_data:\n",
    "        if ne['abstract'] == ne2['abstract'] and ne['literal'] == ne2['literal'] and ne['ne_id'] != ne2['ne_id']:\n",
    "            ne_data.remove(ne2)\n",
    "            \n",
    "print(len(ne_data))"
   ]
  },
  {
   "cell_type": "code",
   "execution_count": 9,
   "metadata": {},
   "outputs": [
    {
     "name": "stdout",
     "output_type": "stream",
     "text": [
      "7290\n"
     ]
    }
   ],
   "source": [
    "for kw in kw_data:\n",
    "    for kw2 in kw_data:\n",
    "        if kw['abstract'] == kw2['abstract'] and kw['literal'] == kw2['literal'] and kw['kw_id'] != kw2['kw_id']:\n",
    "            kw_data.remove(kw2)\n",
    "            \n",
    "print(len(kw_data))"
   ]
  },
  {
   "cell_type": "markdown",
   "metadata": {},
   "source": [
    "## Adding skos triples"
   ]
  },
  {
   "cell_type": "markdown",
   "metadata": {},
   "source": [
    "In every case I add skos.related triples only for keywords and named entities that have lenght of literal >= 3. It filters out keywords or named entities that represent pointless nodes (like literals: \" \", \"-\", \"\", \"OC\" etc.).\n",
    "Algorithm works like:\n",
    "1. For every keyword that has length >=3\n",
    "2. For every named entity that has length >=3\n",
    "3. Check if skos.related applies to a pair (keyword, named entity)."
   ]
  },
  {
   "cell_type": "markdown",
   "metadata": {},
   "source": [
    "### When we consider skos.related if literals are exactly the same."
   ]
  },
  {
   "cell_type": "markdown",
   "metadata": {},
   "source": [
    "Here I assume that keyword and named entities HAVE TO BE from the same abstract. In case they are from the same abstract, skos.related appears only in case literals are exactly the same."
   ]
  },
  {
   "cell_type": "code",
   "execution_count": 22,
   "metadata": {},
   "outputs": [
    {
     "name": "stdout",
     "output_type": "stream",
     "text": [
      "407\n"
     ]
    }
   ],
   "source": [
    "g = Graph()\n",
    "skos_namespace = create_namespace(g, \"http://www.w3.org/2004/02/skos/core#\", 'skos')\n",
    "for kw in kw_data:\n",
    "    if len(str(kw['literal'])) < 3:\n",
    "        continue\n",
    "    for ne in ne_data:\n",
    "        if len(str(ne['literal'])) < 3:\n",
    "            continue\n",
    "        if kw['abstract'] != ne['abstract']:\n",
    "            continue\n",
    "        if str(kw['literal']) == str(ne['literal']):\n",
    "            g.add((kw['kw_id'],skos_namespace.related, ne['ne_id']))\n",
    "            \n",
    "g.serialize('./skos_same_abstract_equal.ttl', format=\"turtle\")\n",
    "print(len(g))"
   ]
  },
  {
   "cell_type": "markdown",
   "metadata": {},
   "source": [
    "Here I assume that keyword and named entities DOES NOT HAVE TO BE from the same abstract. skos.related appears only in case literals are exactly the same."
   ]
  },
  {
   "cell_type": "code",
   "execution_count": 23,
   "metadata": {},
   "outputs": [
    {
     "name": "stdout",
     "output_type": "stream",
     "text": [
      "8795\n"
     ]
    }
   ],
   "source": [
    "g = Graph()\n",
    "skos_namespace = create_namespace(g, \"http://www.w3.org/2004/02/skos/core#\", 'skos')\n",
    "for kw in kw_data:\n",
    "    if len(str(kw['literal'])) < 3:\n",
    "        continue\n",
    "    for ne in ne_data:\n",
    "        if len(str(ne['literal'])) < 3:\n",
    "            continue\n",
    "        if str(kw['literal']) == str(ne['literal']):\n",
    "            g.add((kw['kw_id'],skos_namespace.related, ne['ne_id']))\n",
    "            \n",
    "g.serialize('./skos_equal.ttl', format=\"turtle\")\n",
    "print(len(g))"
   ]
  },
  {
   "cell_type": "markdown",
   "metadata": {},
   "source": [
    "### When we consider skos.related if one of the literals is contained in another one."
   ]
  },
  {
   "cell_type": "markdown",
   "metadata": {},
   "source": [
    "Here I assume that keyword and named entities HAVE TO BE from the same abstract. In case they are from the same abstract, skos.related appears only in case literal of keyword is inside literal of named entity, or named entity literal is inside keyword literal."
   ]
  },
  {
   "cell_type": "code",
   "execution_count": 10,
   "metadata": {},
   "outputs": [
    {
     "name": "stdout",
     "output_type": "stream",
     "text": [
      "1738\n"
     ]
    }
   ],
   "source": [
    "g = Graph()\n",
    "skos_namespace = create_namespace(g, \"http://www.w3.org/2004/02/skos/core#\", 'skos')\n",
    "for kw in kw_data:\n",
    "    if len(str(kw['literal'])) < 3:\n",
    "        continue\n",
    "    for ne in ne_data:\n",
    "        if len(str(ne['literal'])) < 3:\n",
    "            continue\n",
    "        if kw['abstract'] != ne['abstract']:\n",
    "            continue\n",
    "        if str(kw['literal']) in str(ne['literal']):\n",
    "            g.add((kw['kw_id'],skos_namespace.related, ne['ne_id']))\n",
    "        elif str(ne['literal']) in str(kw['literal']):\n",
    "            g.add((kw['kw_id'],skos_namespace.related, ne['ne_id']))\n",
    "            \n",
    "g.serialize('./skos_same_abstract_contain.ttl', format=\"turtle\")\n",
    "print(len(g))"
   ]
  },
  {
   "cell_type": "raw",
   "metadata": {},
   "source": [
    "for all keywords:\n",
    "    if len(keyword) < 3:\n",
    "        continue\n",
    "    for all named entities:\n",
    "        if len(named entity) <3:\n",
    "            continue\n",
    "        if named entity and keywords "
   ]
  },
  {
   "cell_type": "markdown",
   "metadata": {},
   "source": [
    "Here I assume that keyword and named entities DOES NOT HAVE TO BE from the same abstract. skos.related appears only in case literal of keyword is inside literal of named entity, or named entity literal is inside keyword literal."
   ]
  },
  {
   "cell_type": "code",
   "execution_count": 25,
   "metadata": {},
   "outputs": [
    {
     "name": "stdout",
     "output_type": "stream",
     "text": [
      "121905\n"
     ]
    }
   ],
   "source": [
    "g = Graph()\n",
    "skos_namespace = create_namespace(g, \"http://www.w3.org/2004/02/skos/core#\", 'skos')\n",
    "for kw in kw_data:\n",
    "    if len(str(kw['literal'])) < 3:\n",
    "        continue\n",
    "    for ne in ne_data:\n",
    "        if len(str(ne['literal'])) < 3:\n",
    "            continue\n",
    "        if str(kw['literal']) in str(ne['literal']):\n",
    "            g.add((kw['kw_id'],skos_namespace.related, ne['ne_id']))\n",
    "        elif str(ne['literal']) in str(kw['literal']):\n",
    "            g.add((kw['kw_id'],skos_namespace.related, ne['ne_id']))\n",
    "            \n",
    "g.serialize('./skos_contain.ttl', format=\"turtle\")\n",
    "print(len(g))"
   ]
  },
  {
   "cell_type": "code",
   "execution_count": null,
   "metadata": {},
   "outputs": [],
   "source": []
  }
 ],
 "metadata": {
  "kernelspec": {
   "display_name": "Python 3",
   "language": "python",
   "name": "python3"
  },
  "language_info": {
   "codemirror_mode": {
    "name": "ipython",
    "version": 3
   },
   "file_extension": ".py",
   "mimetype": "text/x-python",
   "name": "python",
   "nbconvert_exporter": "python",
   "pygments_lexer": "ipython3",
   "version": "3.7.6"
  }
 },
 "nbformat": 4,
 "nbformat_minor": 4
}
