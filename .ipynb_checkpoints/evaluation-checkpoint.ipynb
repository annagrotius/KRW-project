{
 "cells": [
  {
   "cell_type": "code",
   "execution_count": 1,
   "metadata": {},
   "outputs": [],
   "source": [
    "import pandas as pd\n",
    "from rdflib import Graph, Namespace, URIRef\n",
    "from collections import defaultdict "
   ]
  },
  {
   "cell_type": "code",
   "execution_count": 2,
   "metadata": {},
   "outputs": [],
   "source": [
    "def parse_graph(file):\n",
    "    g = Graph()\n",
    "    g.parse(file, format='turtle')\n",
    "    \n",
    "    return g\n",
    "\n",
    "def create_namespace(graph, namespace, prefix):\n",
    "\n",
    "    ns = Namespace(namespace)\n",
    "    graph.namespace_manager.bind(prefix, namespace)\n",
    "    \n",
    "    return ns"
   ]
  },
  {
   "cell_type": "markdown",
   "metadata": {},
   "source": [
    "### Complete Graph Stats"
   ]
  },
  {
   "cell_type": "code",
   "execution_count": 3,
   "metadata": {},
   "outputs": [
    {
     "name": "stdout",
     "output_type": "stream",
     "text": [
      "number relations: 127320\n",
      "total mesh concepts: 12945\n",
      "total paper concepts: 1222\n",
      "total provenance concepts: 1073\n",
      "total hypothesis concepts: 1221\n",
      "total Named Entity concepts: 10000\n"
     ]
    }
   ],
   "source": [
    "complete_g = parse_graph(\"./Parsing/outputs/complete_graph.ttl\")\n",
    "mesh_g = parse_graph(\"./mesh/mesh_graph.ttl\")\n",
    "hyp_g = parse_graph(\"./Parsing/outputs/hypothesis_main_graph.ttl\")\n",
    "bnode_g = parse_graph(\"./Parsing/outputs/bnode_graph.ttl\")\n",
    "\n",
    "# number of relations\n",
    "complete_rels = len(list(complete_g.predicates())) \n",
    "print(\"number relations:\", complete_rels)\n",
    "\n",
    "# number mesh concepts\n",
    "total_mesh = len(list(mesh_g.subjects())) \n",
    "print(\"total mesh concepts:\", total_mesh)\n",
    "\n",
    "#number paper/hypothesis/provenance nodes\n",
    "hyp_namespace = create_namespace(complete_g, \"http://example.org/hypothesis_ontology/\", 'hyp')\n",
    "total_paper = []\n",
    "total_provenance = []\n",
    "total_hypothesis = []\n",
    "\n",
    "for s,p,o in complete_g.triples( (None, None, hyp_namespace.Paper) ):\n",
    "    total_paper.append(s)\n",
    "print(\"total paper concepts:\", len(total_paper))\n",
    "\n",
    "for s,p,o in complete_g.triples( (None, None, hyp_namespace.Provenance) ):\n",
    "    total_provenance.append(s)\n",
    "print(\"total provenance concepts:\", len(total_provenance))\n",
    "\n",
    "for s,p,o in complete_g.triples( (None, None, hyp_namespace.Hypothesis) ):\n",
    "    total_hypothesis.append(s)\n",
    "print(\"total hypothesis concepts:\", len(total_hypothesis))\n",
    "\n",
    "#number named entity nodes\n",
    "prov_namespace = create_namespace(complete_g, 'http://www.w3.org/TR/prov-o/', 'prov')\n",
    "total_ne = []\n",
    "for s,p,o in complete_g.triples( (None, None, prov_namespace.Entity) ):\n",
    "    total_ne.append(s)\n",
    "print(\"total Named Entity concepts:\", len(total_ne))"
   ]
  },
  {
   "cell_type": "code",
   "execution_count": 4,
   "metadata": {},
   "outputs": [
    {
     "name": "stdout",
     "output_type": "stream",
     "text": [
      "number relations: 127320\n",
      "total mesh concepts: 12945\n",
      "total paper concepts: 1218\n",
      "total provenance concepts: 1071\n",
      "total hypothesis concepts: 1218\n",
      "total Named Entity concepts: 10000\n"
     ]
    }
   ],
   "source": [
    "complete_g = parse_graph(\"./Parsing/outputs/complete_graph.ttl\")\n",
    "mesh_g = parse_graph(\"./mesh/mesh_graph.ttl\")\n",
    "hyp_g = parse_graph(\"./Parsing/outputs/hypothesis_main_graph.ttl\")\n",
    "bnode_g = parse_graph(\"./Parsing/outputs/bnode_graph.ttl\")\n",
    "\n",
    "# number of relations\n",
    "complete_rels = len(list(complete_g.predicates())) \n",
    "print(\"number relations:\", complete_rels)\n",
    "\n",
    "# number mesh concepts\n",
    "total_mesh = len(list(mesh_g.subjects())) \n",
    "print(\"total mesh concepts:\", total_mesh)\n",
    "\n",
    "#number paper/hypothesis/provenance nodes\n",
    "hyp_namespace = create_namespace(hyp_g, \"http://example.org/hypothesis_ontology/\", 'hyp')\n",
    "total_paper = []\n",
    "total_provenance = []\n",
    "total_hypothesis = []\n",
    "\n",
    "for s,p,o in hyp_g.triples( (None, None, hyp_namespace.Paper) ):\n",
    "    total_paper.append(s)\n",
    "print(\"total paper concepts:\", len(total_paper))\n",
    "\n",
    "for s,p,o in hyp_g.triples( (None, None, hyp_namespace.Provenance) ):\n",
    "    total_provenance.append(s)\n",
    "print(\"total provenance concepts:\", len(total_provenance))\n",
    "\n",
    "for s,p,o in hyp_g.triples( (None, None, hyp_namespace.Hypothesis) ):\n",
    "    total_hypothesis.append(s)\n",
    "print(\"total hypothesis concepts:\", len(total_hypothesis))\n",
    "\n",
    "#number named entity nodes\n",
    "prov_namespace = create_namespace(bnode_g, 'http://www.w3.org/TR/prov-o/', 'prov')\n",
    "total_ne = []\n",
    "for s,p,o in bnode_g.triples( (None, None, prov_namespace.Entity) ):\n",
    "    total_ne.append(s)\n",
    "print(\"total Named Entity concepts:\", len(total_ne))"
   ]
  },
  {
   "cell_type": "markdown",
   "metadata": {},
   "source": [
    "### Evaluation Links"
   ]
  },
  {
   "cell_type": "code",
   "execution_count": 5,
   "metadata": {},
   "outputs": [],
   "source": [
    "kw_file = \"./Parsing/outputs/hypothesis-keywords-graph.ttl\"\n",
    "ne_links_file = \"./Linking/skos_same_abstract_contain.ttl\"\n",
    "mesh_links_file = \"./Linking/mesh_links_contain.ttl\""
   ]
  },
  {
   "cell_type": "code",
   "execution_count": 8,
   "metadata": {},
   "outputs": [],
   "source": [
    "kw_g = parse_graph(kw_file)\n",
    "ne_links_g = parse_graph(ne_links_file)\n",
    "mesh_links_g = parse_graph(mesh_links_file)"
   ]
  },
  {
   "cell_type": "code",
   "execution_count": 9,
   "metadata": {},
   "outputs": [],
   "source": [
    "oa_namespace = create_namespace(kw_g, \"http://www.w3.org/ns/oa#\", 'oa')\n",
    "skos_namespace = create_namespace(mesh_links_g, \"http://www.w3.org/2004/02/skos/core#\", 'skos')\n",
    "skos_namespace = create_namespace(ne_links_g, \"http://www.w3.org/2004/02/skos/core#\", 'skos')"
   ]
  },
  {
   "cell_type": "code",
   "execution_count": 10,
   "metadata": {},
   "outputs": [
    {
     "name": "stdout",
     "output_type": "stream",
     "text": [
      "There are 7421 keywords\n"
     ]
    }
   ],
   "source": [
    "keywords = []\n",
    "for s,p,o in kw_g.triples( (None, oa_namespace.hasTarget, None) ):\n",
    "    keywords.append(s)\n",
    "    \n",
    "print(\"There are\", len(keywords), \"keywords\")"
   ]
  },
  {
   "cell_type": "code",
   "execution_count": 11,
   "metadata": {},
   "outputs": [
    {
     "name": "stdout",
     "output_type": "stream",
     "text": [
      "There are 1167 keywords linked with a mesh concept\n"
     ]
    }
   ],
   "source": [
    "mesh_file_keywords = []\n",
    "for s,p,o in mesh_links_g.triples( (None, skos_namespace.related, None) ):\n",
    "    mesh_file_keywords.append(s)\n",
    "print(\"There are\", len(set(mesh_file_keywords)), \"keywords linked with a mesh concept\")"
   ]
  },
  {
   "cell_type": "code",
   "execution_count": 12,
   "metadata": {},
   "outputs": [
    {
     "name": "stdout",
     "output_type": "stream",
     "text": [
      "There are 1413 keywords linked with a named entity fishing concept\n"
     ]
    }
   ],
   "source": [
    "ne_file_keywords = []\n",
    "for s,p,o in ne_links_g.triples( (None, skos_namespace.related, None) ):\n",
    "    ne_file_keywords.append(s)\n",
    "print(\"There are\", len(set(ne_file_keywords)), \"keywords linked with a named entity fishing concept\")"
   ]
  },
  {
   "cell_type": "code",
   "execution_count": 13,
   "metadata": {},
   "outputs": [],
   "source": [
    "# len(list(ne_g.predicates()))"
   ]
  },
  {
   "cell_type": "code",
   "execution_count": 14,
   "metadata": {},
   "outputs": [],
   "source": [
    "ne_link_count = defaultdict(int)\n",
    "mesh_link_count = defaultdict(int)"
   ]
  },
  {
   "cell_type": "code",
   "execution_count": 15,
   "metadata": {
    "scrolled": true
   },
   "outputs": [],
   "source": [
    "for s,p,o in ne_links_g.triples( (None, skos_namespace.related, None) ):\n",
    "    ne_link_count[s] += 1\n",
    "\n",
    "for s,p,o in mesh_links_g.triples( (None, skos_namespace.related, None) ):\n",
    "    mesh_link_count[s] += 1"
   ]
  },
  {
   "cell_type": "code",
   "execution_count": 20,
   "metadata": {},
   "outputs": [],
   "source": [
    "mesh_keys = set(mesh_link_count.keys())\n",
    "ne_keys = set(ne_link_count.keys())"
   ]
  },
  {
   "cell_type": "code",
   "execution_count": 21,
   "metadata": {},
   "outputs": [],
   "source": [
    "kw_link_count = dict()\n",
    "\n",
    "for kw in keywords:\n",
    "    kw_link_count[kw] = []\n",
    "    if kw in mesh_keys:\n",
    "        kw_link_count[kw].append(mesh_link_count[kw])\n",
    "    else:\n",
    "        kw_link_count[kw].append(0)\n",
    "    if kw in ne_keys:\n",
    "        kw_link_count[kw].append(ne_link_count[kw])\n",
    "    else:\n",
    "        kw_link_count[kw].append(0)"
   ]
  },
  {
   "cell_type": "markdown",
   "metadata": {},
   "source": [
    "Convert the dictionary above to data frame to find some statistics"
   ]
  },
  {
   "cell_type": "code",
   "execution_count": 23,
   "metadata": {},
   "outputs": [],
   "source": [
    "# convert the dictionary above to data frame to find some statistics\n",
    "df = pd.DataFrame(kw_link_count,index=['mesh', 'ne'])\n",
    "new_df = df.T"
   ]
  },
  {
   "cell_type": "code",
   "execution_count": 25,
   "metadata": {},
   "outputs": [
    {
     "name": "stdout",
     "output_type": "stream",
     "text": [
      "Median of mesh links: 8.0\n"
     ]
    }
   ],
   "source": [
    "print(\"Median of mesh links:\", new_df['mesh'].value_counts().median())"
   ]
  },
  {
   "cell_type": "code",
   "execution_count": 32,
   "metadata": {},
   "outputs": [
    {
     "name": "stdout",
     "output_type": "stream",
     "text": [
      "[rdflib.term.URIRef('http://example.org/hypothesis_ontology/cdd89f7d-4e2a-4fd0-a7f3-5290d1d19381#keyword')\n",
      " rdflib.term.URIRef('http://example.org/hypothesis_ontology/de523e6c-7801-4271-be46-02e12dd35837#keyword')\n",
      " rdflib.term.URIRef('http://example.org/hypothesis_ontology/65af693b-0d99-4146-bf18-33fff4333da4#keyword')\n",
      " rdflib.term.URIRef('http://example.org/hypothesis_ontology/83c7cc22-ad11-44e0-b3bb-3abbe4e644ad#keyword')\n",
      " rdflib.term.URIRef('http://example.org/hypothesis_ontology/7675c870-4fa0-438c-881e-d5c3e9e69f78#keyword')\n",
      " rdflib.term.URIRef('http://example.org/hypothesis_ontology/ff88daa8-08c2-4ecc-b2b1-4908770d7fbb#keyword')]\n"
     ]
    }
   ],
   "source": [
    "# observing certain mesh instances\n",
    "    \n",
    "print(new_df[new_df['mesh']==281].index.values)"
   ]
  },
  {
   "cell_type": "code",
   "execution_count": null,
   "metadata": {},
   "outputs": [],
   "source": [
    "[rdflib.term.URIRef('http://example.org/hypothesis_ontology/cdd89f7d-4e2a-4fd0-a7f3-5290d1d19381#keyword')  #receptors\n",
    " rdflib.term.URIRef('http://example.org/hypothesis_ontology/de523e6c-7801-4271-be46-02e12dd35837#keyword')\n",
    " rdflib.term.URIRef('http://example.org/hypothesis_ontology/65af693b-0d99-4146-bf18-33fff4333da4#keyword')\n",
    " rdflib.term.URIRef('http://example.org/hypothesis_ontology/83c7cc22-ad11-44e0-b3bb-3abbe4e644ad#keyword')\n",
    " rdflib.term.URIRef('http://example.org/hypothesis_ontology/7675c870-4fa0-438c-881e-d5c3e9e69f78#keyword')\n",
    " rdflib.term.URIRef('http://example.org/hypothesis_ontology/ff88daa8-08c2-4ecc-b2b1-4908770d7fbb#keyword')]"
   ]
  },
  {
   "cell_type": "code",
   "execution_count": 26,
   "metadata": {},
   "outputs": [
    {
     "name": "stdout",
     "output_type": "stream",
     "text": [
      "Median of named entity links: 38.0\n"
     ]
    }
   ],
   "source": [
    "print(\"Median of named entity links:\", new_df['ne'].value_counts().median())"
   ]
  },
  {
   "cell_type": "raw",
   "metadata": {},
   "source": []
  },
  {
   "cell_type": "code",
   "execution_count": 31,
   "metadata": {},
   "outputs": [
    {
     "data": {
      "text/plain": [
       "<bound method NDFrame.head of    http://example.org/hypothesis_ontology/12e6304d-1405-41bd-a189-0f276eac1249#keyword  \\\n",
       "0                                                  0                                     \n",
       "1                                                  0                                     \n",
       "\n",
       "   http://example.org/hypothesis_ontology/4c25597d-e1b6-452a-9bbb-b2004cc00fa9#keyword  \\\n",
       "0                                                  0                                     \n",
       "1                                                  0                                     \n",
       "\n",
       "   http://example.org/hypothesis_ontology/24a68693-6de1-4acf-bc5d-67a94f49e13d#keyword  \\\n",
       "0                                                  0                                     \n",
       "1                                                  0                                     \n",
       "\n",
       "   http://example.org/hypothesis_ontology/fe7a2eb4-6ce6-4102-99e6-26bee61b3657#keyword  \\\n",
       "0                                                  2                                     \n",
       "1                                                  1                                     \n",
       "\n",
       "   http://example.org/hypothesis_ontology/3a9d733b-b731-456c-8aea-621ad8868bb6#keyword  \\\n",
       "0                                                  1                                     \n",
       "1                                                  0                                     \n",
       "\n",
       "   http://example.org/hypothesis_ontology/6ec65862-a3fe-43c1-b680-7a3eead32999#keyword  \\\n",
       "0                                                  0                                     \n",
       "1                                                  0                                     \n",
       "\n",
       "   http://example.org/hypothesis_ontology/ec53d3f1-9527-442d-bc37-6bcf59ba24b3#keyword  \\\n",
       "0                                                  0                                     \n",
       "1                                                  1                                     \n",
       "\n",
       "   http://example.org/hypothesis_ontology/90c215c6-c197-4d37-8fec-77d08fbccd42#keyword  \\\n",
       "0                                                  0                                     \n",
       "1                                                  0                                     \n",
       "\n",
       "   http://example.org/hypothesis_ontology/248479d6-a3a5-4cd5-8f2d-82753d5b71d6#keyword  \\\n",
       "0                                                  0                                     \n",
       "1                                                  1                                     \n",
       "\n",
       "   http://example.org/hypothesis_ontology/9b1bbfd9-14d5-499d-b674-3f7907c8ec3a#keyword  \\\n",
       "0                                                  0                                     \n",
       "1                                                  0                                     \n",
       "\n",
       "   ...  \\\n",
       "0  ...   \n",
       "1  ...   \n",
       "\n",
       "   http://example.org/hypothesis_ontology/c05614ef-5ea0-42f0-bc84-ab40335058a2#keyword  \\\n",
       "0                                                  0                                     \n",
       "1                                                  0                                     \n",
       "\n",
       "   http://example.org/hypothesis_ontology/2681bcba-017e-4865-9d15-2c6bf2071b4c#keyword  \\\n",
       "0                                                  0                                     \n",
       "1                                                  1                                     \n",
       "\n",
       "   http://example.org/hypothesis_ontology/8c11b2c0-ea67-461e-9dca-cfcee3f87267#keyword  \\\n",
       "0                                                  0                                     \n",
       "1                                                  1                                     \n",
       "\n",
       "   http://example.org/hypothesis_ontology/06090016-31c1-48b7-b77d-871dadc9cf1d#keyword  \\\n",
       "0                                                  0                                     \n",
       "1                                                  0                                     \n",
       "\n",
       "   http://example.org/hypothesis_ontology/6e0804c8-c8a6-4fc2-9f3a-4cf1a2022a68#keyword  \\\n",
       "0                                                  1                                     \n",
       "1                                                  0                                     \n",
       "\n",
       "   http://example.org/hypothesis_ontology/34274f51-9828-4bd3-9072-bd2747448509#keyword  \\\n",
       "0                                                  0                                     \n",
       "1                                                  0                                     \n",
       "\n",
       "   http://example.org/hypothesis_ontology/bb14757f-3473-4421-bdeb-5ada76adecd4#keyword  \\\n",
       "0                                                  0                                     \n",
       "1                                                  0                                     \n",
       "\n",
       "   http://example.org/hypothesis_ontology/2bd6c003-0975-4427-a365-de49a3587bec#keyword  \\\n",
       "0                                                  0                                     \n",
       "1                                                  0                                     \n",
       "\n",
       "   http://example.org/hypothesis_ontology/4f7737f7-630d-4ca7-b6fb-910ef63d6286#keyword  \\\n",
       "0                                                  0                                     \n",
       "1                                                  0                                     \n",
       "\n",
       "   http://example.org/hypothesis_ontology/09fca70c-569e-4d2c-a448-7d3ede4bc2da#keyword  \n",
       "0                                                  0                                    \n",
       "1                                                  1                                    \n",
       "\n",
       "[2 rows x 7421 columns]>"
      ]
     },
     "execution_count": 31,
     "metadata": {},
     "output_type": "execute_result"
    }
   ],
   "source": [
    "df.head"
   ]
  },
  {
   "cell_type": "markdown",
   "metadata": {},
   "source": [
    "Check if the amount of keywords in graph equals the amount of keywords that have a link."
   ]
  },
  {
   "cell_type": "code",
   "execution_count": 68,
   "metadata": {},
   "outputs": [
    {
     "data": {
      "text/plain": [
       "True"
      ]
     },
     "execution_count": 68,
     "metadata": {},
     "output_type": "execute_result"
    }
   ],
   "source": [
    "set(kw_link_count.keys())==set(keywords)"
   ]
  },
  {
   "cell_type": "code",
   "execution_count": null,
   "metadata": {},
   "outputs": [],
   "source": []
  }
 ],
 "metadata": {
  "kernelspec": {
   "display_name": "Python 3",
   "language": "python",
   "name": "python3"
  },
  "language_info": {
   "codemirror_mode": {
    "name": "ipython",
    "version": 3
   },
   "file_extension": ".py",
   "mimetype": "text/x-python",
   "name": "python",
   "nbconvert_exporter": "python",
   "pygments_lexer": "ipython3",
   "version": "3.7.6"
  }
 },
 "nbformat": 4,
 "nbformat_minor": 4
}
