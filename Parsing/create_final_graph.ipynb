{
 "cells": [
  {
   "cell_type": "code",
   "execution_count": 1,
   "metadata": {},
   "outputs": [],
   "source": [
    "from rdflib import Graph, Namespace"
   ]
  },
  {
   "cell_type": "code",
   "execution_count": 6,
   "metadata": {},
   "outputs": [],
   "source": [
    "def create_graph(graph_file):\n",
    "    g = Graph()\n",
    "    g.parse(graph_file, format=\"turtle\")\n",
    "    \n",
    "    return g\n",
    "\n",
    "graph_files = [\"../Ontology/hypothesis_owl.ttl\", \"./outputs/hypothesis-keywords-graph.ttl\", \"./outputs/hypothesis_main_graph.ttl\", \"./outputs/bnode_graph.ttl\", \"../Linking/mesh_links_contain.ttl\", \"../Linking/skos_same_abstract_contain.ttl\"] "
   ]
  },
  {
   "cell_type": "code",
   "execution_count": 7,
   "metadata": {},
   "outputs": [],
   "source": [
    "def create_namespace(graph, namespace, prefix):\n",
    "\n",
    "    ns = Namespace(namespace)\n",
    "    graph.namespace_manager.bind(prefix, namespace)\n",
    "    \n",
    "    return ns"
   ]
  },
  {
   "cell_type": "code",
   "execution_count": 8,
   "metadata": {},
   "outputs": [],
   "source": [
    "complete_g = Graph()\n",
    "\n",
    "owl_namespace = create_namespace(complete_g, \"http://www.w3.org/2002/07/owl#\", 'owl')\n",
    "hyp_namespace = create_namespace(complete_g, \"http://example.org/hypothesis_ontology/\", 'hyp')\n",
    "oa_namespace = create_namespace(complete_g, \"http://www.w3.org/ns/oa#\", 'oa')\n",
    "bibo_namespace = create_namespace(complete_g, \"http://purl.org/ontology/bibo/\", 'bibo')\n",
    "dct_namespace = create_namespace(complete_g, \"http://purl.org/dc/terms/\", 'dct')\n",
    "fabio_namespace = create_namespace(complete_g, \"http://purl.org/spar/fabio/\", 'fabio')\n",
    "foaf_namespace = create_namespace(complete_g, \"http://xmlns.com/foaf/0.1/\", 'foaf')\n",
    "schema_namespace = create_namespace(complete_g, \"http://schema.org/\", 'schema')\n",
    "skos_namespace = create_namespace(complete_g, \"http://www.w3.org/2004/02/skos/core#\", 'skos')\n",
    "covidpr_namespace = create_namespace(complete_g, \"http://ns.inria.fr/covid19/property/\", 'covidpr')"
   ]
  },
  {
   "cell_type": "code",
   "execution_count": 9,
   "metadata": {},
   "outputs": [
    {
     "data": {
      "text/plain": [
       "127320"
      ]
     },
     "execution_count": 9,
     "metadata": {},
     "output_type": "execute_result"
    }
   ],
   "source": [
    "for file in graph_files:\n",
    "    complete_g += create_graph(file)\n",
    "\n",
    "len(complete_g)"
   ]
  },
  {
   "cell_type": "code",
   "execution_count": 10,
   "metadata": {},
   "outputs": [],
   "source": [
    "complete_g.serialize(\"./outputs/complete_graph.ttl\", format=\"turtle\")"
   ]
  },
  {
   "cell_type": "code",
   "execution_count": null,
   "metadata": {},
   "outputs": [],
   "source": []
  }
 ],
 "metadata": {
  "kernelspec": {
   "display_name": "Python 3",
   "language": "python",
   "name": "python3"
  },
  "language_info": {
   "codemirror_mode": {
    "name": "ipython",
    "version": 3
   },
   "file_extension": ".py",
   "mimetype": "text/x-python",
   "name": "python",
   "nbconvert_exporter": "python",
   "pygments_lexer": "ipython3",
   "version": "3.7.6"
  }
 },
 "nbformat": 4,
 "nbformat_minor": 4
}
