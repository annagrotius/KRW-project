{
 "cells": [
  {
   "cell_type": "code",
   "execution_count": 2,
   "metadata": {},
   "outputs": [],
   "source": [
    "import sys\n",
    "from rdflib import Graph, ConjunctiveGraph, Literal, BNode, Namespace, RDF, URIRef\n",
    "from rdflib.namespace import DC, FOAF\n",
    "import pprint\n",
    "\n",
    "input_directory = \"../sparql-queries/\"\n",
    "hypothesis_instances = \"hypothesis-info-instances.ttl\"\n",
    "paper_instances = \"paper-info-instances.ttl\"\n",
    "provenance_instances_part1 = \"provenance-info-instances-without-sha-date-url.ttl\"\n",
    "provenance_instances_part2 = \"provenance-info-instances-only-sha-date-url.ttl\"\n",
    "\n",
    "hyp_inst_g = Graph()\n",
    "hyp_inst_g.parse(input_directory+hypothesis_instances, format='turtle')\n",
    "\n",
    "pap_inst_g = Graph()\n",
    "pap_inst_g.parse(input_directory+paper_instances, format='turtle')\n",
    "\n",
    "pro_inst_g = Graph()\n",
    "pro_inst_g.parse(input_directory+provenance_instances_part1, format='turtle')\n",
    "pro_inst_g.parse(input_directory+provenance_instances_part2, format='turtle')\n",
    "\n",
    "merged_graph = hyp_inst_g + pro_inst_g + pap_inst_g"
   ]
  },
  {
   "cell_type": "code",
   "execution_count": 3,
   "metadata": {},
   "outputs": [],
   "source": [
    "f = open(\"./outputs/hypothesis_graph.nt\", \"w\")\n",
    "f.write(merged_graph.serialize(format='nt').decode())\n",
    "f.close()"
   ]
  },
  {
   "cell_type": "code",
   "execution_count": 4,
   "metadata": {
    "scrolled": true
   },
   "outputs": [],
   "source": [
    "# You can also parse directly from a string\n",
    "g = Graph()\n",
    "g.parse(\"./outputs/hypothesis_graph.nt\", format=\"nt\")\n",
    "\n",
    "bibo_uri = URIRef(\"http://purl.org/ontology/bibo/\")\n",
    "bibo_namespace = Namespace(bibo_uri)\n",
    "g.bind(\"bibo\", bibo_namespace)\n",
    "\n",
    "dct_uri = URIRef(\"http://purl.org/dc/terms/\")\n",
    "dct_namespace = Namespace(dct_uri)\n",
    "g.bind(\"dct\", dct_namespace)\n",
    "\n",
    "fabio_uri = URIRef(\"http://purl.org/spar/fabio/\")\n",
    "fabio_namespace = Namespace(fabio_uri)\n",
    "g.bind(\"fabio\", fabio_namespace)\n",
    "\n",
    "foaf_uri = URIRef(\"http://xmlns.com/foaf/0.1/\")\n",
    "foaf_namespace = Namespace(foaf_uri)\n",
    "g.bind(\"foaf\", foaf_namespace)\n",
    "\n",
    "oa_uri = URIRef(\"http://www.w3.org/ns/oa#\")\n",
    "oa_namespace = Namespace(oa_uri)\n",
    "g.bind(\"oa\", oa_namespace)\n",
    "\n",
    "schema_uri = URIRef(\"http://schema.org/\")\n",
    "schema_namespace = Namespace(schema_uri)\n",
    "g.bind(\"schema\", schema_namespace)\n",
    "\n",
    "hyp_uri = URIRef(\"http://example.org/hypothesis_ontology/\")\n",
    "hyp_namespace = Namespace(hyp_uri)\n",
    "g.bind(\"hyp\", hyp_namespace)\n",
    "\n",
    "g.serialize(\"./outputs/hypothesis_main_graph.ttl\", format='turtle')"
   ]
  },
  {
   "cell_type": "code",
   "execution_count": null,
   "metadata": {},
   "outputs": [],
   "source": []
  }
 ],
 "metadata": {
  "kernelspec": {
   "display_name": "Python 3",
   "language": "python",
   "name": "python3"
  },
  "language_info": {
   "codemirror_mode": {
    "name": "ipython",
    "version": 3
   },
   "file_extension": ".py",
   "mimetype": "text/x-python",
   "name": "python",
   "nbconvert_exporter": "python",
   "pygments_lexer": "ipython3",
   "version": "3.7.4"
  }
 },
 "nbformat": 4,
 "nbformat_minor": 4
}
