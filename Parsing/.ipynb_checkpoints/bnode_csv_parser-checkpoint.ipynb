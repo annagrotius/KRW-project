{
 "cells": [
  {
   "cell_type": "code",
   "execution_count": 11,
   "metadata": {},
   "outputs": [],
   "source": [
    "# Code Based On: https://github.com/r4isstatic/csv-to-ttl/blob/master/uber.py\n",
    "import csv\n",
    "from rdflib import URIRef, Literal, Namespace, Graph\n",
    "from rdflib.namespace import RDF, RDFS, XSD\n",
    "import uuid"
   ]
  },
  {
   "cell_type": "code",
   "execution_count": 12,
   "metadata": {},
   "outputs": [],
   "source": [
    "bnode_g = Graph()"
   ]
  },
  {
   "cell_type": "code",
   "execution_count": 13,
   "metadata": {},
   "outputs": [],
   "source": [
    "# namespaces\n",
    "def create_namespace(graph, namespace, prefix):\n",
    "\n",
    "    ns = Namespace(namespace)\n",
    "    graph.namespace_manager.bind(prefix, namespace)\n",
    "    \n",
    "    return ns\n",
    "\n",
    "\n",
    "hyp_namespace = create_namespace(bnode_g, \"http://example.org/hypothesis_ontology/\", 'hyp')\n",
    "oa_namespace = create_namespace(bnode_g, \"http://www.w3.org/ns/oa#\", 'oa')\n",
    "covidpr_namespace = create_namespace(bnode_g, \"http://ns.inria.fr/covid19/property/\", 'covidpr')\n",
    "dct_namespace = create_namespace(bnode_g, \"http://purl.org/dc/terms/\", 'dct')\n",
    "covid_namespace = create_namespace(bnode_g, \"http://ns.inria.fr/covid19/\", 'covid')\n",
    "prov_namespace = create_namespace(bnode_g, 'http://www.w3.org/TR/prov-o/', 'prov')"
   ]
  },
  {
   "cell_type": "code",
   "execution_count": 14,
   "metadata": {},
   "outputs": [],
   "source": [
    "ifile = open('../Input/bnode_new1.csv')\n",
    "reader = csv.reader(ifile)"
   ]
  },
  {
   "cell_type": "code",
   "execution_count": 17,
   "metadata": {},
   "outputs": [],
   "source": [
    "rownum = 0\n",
    "for row in reader:\n",
    "    if rownum == 0: \n",
    "        pass\n",
    "    else:\n",
    "        unique_id = str(uuid.uuid4())\n",
    "        unique_NE_uri = URIRef(hyp_namespace + unique_id + '#namedEntity')\n",
    "        bnode_g.add( (unique_NE_uri, oa_namespace.hasSource, URIRef(row[3])) )\n",
    "        bnode_g.add( (unique_NE_uri, RDF.type, prov_namespace.Entity) )\n",
    "        bnode_g.add( (unique_NE_uri, RDF.type, oa_namespace.Annotation) )\n",
    "        bnode_g.add( (unique_NE_uri, oa_namespace.exact, Literal(row[1])) )\n",
    "        bnode_g.add( (unique_NE_uri, oa_namespace.hasBody, URIRef(row[5])) )\n",
    "        bnode_g.add( (unique_NE_uri, covidpr_namespace.confidence, Literal(row[4], datatype=XSD.decimal)) )\n",
    "        subjects = row[2].split(',')\n",
    "        for subj in subjects:\n",
    "            bnode_g.add( (unique_NE_uri, dct_namespace.subject, Literal(subj)) )\n",
    "    rownum += 1 \n",
    "\n",
    "g = bnode_g.serialize('../Output-Graphs/bnode_graph_new.ttl', format='turtle')\n",
    "\n",
    "ifile.close()"
   ]
  },
  {
   "cell_type": "code",
   "execution_count": null,
   "metadata": {},
   "outputs": [],
   "source": []
  }
 ],
 "metadata": {
  "kernelspec": {
   "display_name": "Python 3",
   "language": "python",
   "name": "python3"
  },
  "language_info": {
   "codemirror_mode": {
    "name": "ipython",
    "version": 3
   },
   "file_extension": ".py",
   "mimetype": "text/x-python",
   "name": "python",
   "nbconvert_exporter": "python",
   "pygments_lexer": "ipython3",
   "version": "3.7.6"
  }
 },
 "nbformat": 4,
 "nbformat_minor": 4
}
