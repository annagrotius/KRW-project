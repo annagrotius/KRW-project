{
 "cells": [
  {
   "cell_type": "code",
   "execution_count": 1,
   "metadata": {},
   "outputs": [],
   "source": [
    "# Code Based On: https://github.com/r4isstatic/csv-to-ttl/blob/master/uber.py\n",
    "import csv\n",
    "from rdflib import URIRef, Literal, Namespace, Graph\n",
    "from rdflib.namespace import RDF, RDFS\n",
    "import uuid"
   ]
  },
  {
   "cell_type": "code",
   "execution_count": 2,
   "metadata": {},
   "outputs": [],
   "source": [
    "datasetGraph = Graph()"
   ]
  },
  {
   "cell_type": "code",
   "execution_count": 3,
   "metadata": {},
   "outputs": [],
   "source": [
    "# namespaces\n",
    "hyp = Namespace(\"http://example.org/hypothesis_ontology/\")\n",
    "oa = Namespace(\"http://www.w3.org/ns/oa#\")"
   ]
  },
  {
   "cell_type": "code",
   "execution_count": 4,
   "metadata": {},
   "outputs": [],
   "source": [
    "datasetGraph.namespace_manager.bind('hyp', URIRef(hyp))\n",
    "datasetGraph.namespace_manager.bind('oa', URIRef(oa))"
   ]
  },
  {
   "cell_type": "code",
   "execution_count": 5,
   "metadata": {},
   "outputs": [],
   "source": [
    "ifile = open('../Input/paper_hyp_entity_data.csv', 'rt',encoding=\"utf8\")\n",
    "reader = csv.reader(ifile)"
   ]
  },
  {
   "cell_type": "code",
   "execution_count": 6,
   "metadata": {},
   "outputs": [],
   "source": [
    "rownum = 0\n",
    "for row in reader:\n",
    "    if rownum == 0: # if it's the first row, then ignore it, move on to the next one.\n",
    "        pass\n",
    "    else:\n",
    "        num_of_keywords = len(row[8].split(','))\n",
    "        for i in range(num_of_keywords):\n",
    "            unique_id = str(uuid.uuid4())\n",
    "            unique_keyword_uri = URIRef('http://example.org/hypothesis_ontology/' + unique_id + '#keyword')\n",
    "            datasetGraph.add( (URIRef(row[2]), hyp.contains, unique_keyword_uri) )\n",
    "            datasetGraph.add( (unique_keyword_uri, oa.hasTarget, Literal(row[9+i])) )\n",
    "            datasetGraph.add( (URIRef(row[2]), RDF.value, Literal(row[6])) )\n",
    "            datasetGraph.add( (URIRef(row[2]), oa.hasSource, URIRef(row[4])) ) # maybe dont need this line since it is already in HypothesisInstances.ttl\n",
    "    rownum += 1 # advance the row number so we can loop through again with the next row\n",
    "\n",
    "h = datasetGraph.serialize('../Output-Graphs/HypothesisKeywordInstances.ttl', format='turtle')\n",
    "\n",
    "ifile.close()"
   ]
  },
  {
   "cell_type": "code",
   "execution_count": null,
   "metadata": {},
   "outputs": [],
   "source": []
  }
 ],
 "metadata": {
  "kernelspec": {
   "display_name": "Python 3",
   "language": "python",
   "name": "python3"
  },
  "language_info": {
   "codemirror_mode": {
    "name": "ipython",
    "version": 3
   },
   "file_extension": ".py",
   "mimetype": "text/x-python",
   "name": "python",
   "nbconvert_exporter": "python",
   "pygments_lexer": "ipython3",
   "version": "3.7.6"
  }
 },
 "nbformat": 4,
 "nbformat_minor": 4
}
